{
 "cells": [
  {
   "cell_type": "code",
   "execution_count": 12,
   "id": "bc811b51",
   "metadata": {},
   "outputs": [],
   "source": [
    "import pandas as pd\n",
    "data = pd.read_csv(\"./dataset.csv\")"
   ]
  },
  {
   "cell_type": "code",
   "execution_count": 276,
   "id": "fcc46b85",
   "metadata": {},
   "outputs": [],
   "source": [
    "#data = data.drop_duplicates(['name'])"
   ]
  },
  {
   "cell_type": "code",
   "execution_count": 277,
   "id": "ff06804d",
   "metadata": {},
   "outputs": [],
   "source": [
    "#data = data[['name']].values.tolist()"
   ]
  },
  {
   "cell_type": "code",
   "execution_count": 278,
   "id": "cd2b50ff",
   "metadata": {},
   "outputs": [],
   "source": [
    "#data = [i[0] for i in data]"
   ]
  },
  {
   "cell_type": "code",
   "execution_count": 13,
   "id": "d5af0559",
   "metadata": {
    "scrolled": true
   },
   "outputs": [],
   "source": [
    "data = data.groupby(['date','name'])"
   ]
  },
  {
   "cell_type": "code",
   "execution_count": 14,
   "id": "27191e46",
   "metadata": {
    "scrolled": false
   },
   "outputs": [],
   "source": [
    "data =data.sum()"
   ]
  },
  {
   "cell_type": "code",
   "execution_count": 15,
   "id": "a7cdb196",
   "metadata": {},
   "outputs": [],
   "source": [
    "data['gradient'] = data['eye_cnt']/data['diff']"
   ]
  },
  {
   "cell_type": "code",
   "execution_count": 16,
   "id": "5cb3fff7",
   "metadata": {
    "scrolled": true
   },
   "outputs": [],
   "source": [
    "data = data.sort_values(by=['gradient'],ascending=[False])"
   ]
  },
  {
   "cell_type": "code",
   "execution_count": 15,
   "id": "8be1ddc4",
   "metadata": {},
   "outputs": [
    {
     "data": {
      "text/html": [
       "<div>\n",
       "<style scoped>\n",
       "    .dataframe tbody tr th:only-of-type {\n",
       "        vertical-align: middle;\n",
       "    }\n",
       "\n",
       "    .dataframe tbody tr th {\n",
       "        vertical-align: top;\n",
       "    }\n",
       "\n",
       "    .dataframe thead th {\n",
       "        text-align: right;\n",
       "    }\n",
       "</style>\n",
       "<table border=\"1\" class=\"dataframe\">\n",
       "  <thead>\n",
       "    <tr style=\"text-align: right;\">\n",
       "      <th></th>\n",
       "      <th></th>\n",
       "      <th>eye_cnt</th>\n",
       "      <th>diff</th>\n",
       "    </tr>\n",
       "    <tr>\n",
       "      <th>date</th>\n",
       "      <th>name</th>\n",
       "      <th></th>\n",
       "      <th></th>\n",
       "    </tr>\n",
       "  </thead>\n",
       "  <tbody>\n",
       "    <tr>\n",
       "      <th rowspan=\"5\" valign=\"top\">2023-07-18</th>\n",
       "      <th>Code.exe</th>\n",
       "      <td>1</td>\n",
       "      <td>0.083334</td>\n",
       "    </tr>\n",
       "    <tr>\n",
       "      <th>ShellExperienceHost.exe</th>\n",
       "      <td>0</td>\n",
       "      <td>0.050000</td>\n",
       "    </tr>\n",
       "    <tr>\n",
       "      <th>e</th>\n",
       "      <td>1</td>\n",
       "      <td>0.016667</td>\n",
       "    </tr>\n",
       "    <tr>\n",
       "      <th>electron.exe</th>\n",
       "      <td>4</td>\n",
       "      <td>0.483333</td>\n",
       "    </tr>\n",
       "    <tr>\n",
       "      <th>explorer.exe</th>\n",
       "      <td>0</td>\n",
       "      <td>0.016667</td>\n",
       "    </tr>\n",
       "    <tr>\n",
       "      <th>...</th>\n",
       "      <th>...</th>\n",
       "      <td>...</td>\n",
       "      <td>...</td>\n",
       "    </tr>\n",
       "    <tr>\n",
       "      <th rowspan=\"5\" valign=\"top\">2023-07-30</th>\n",
       "      <th>SearchApp.exe</th>\n",
       "      <td>3</td>\n",
       "      <td>0.083334</td>\n",
       "    </tr>\n",
       "    <tr>\n",
       "      <th>ShellExperienceHost.exe</th>\n",
       "      <td>2</td>\n",
       "      <td>0.033333</td>\n",
       "    </tr>\n",
       "    <tr>\n",
       "      <th>explorer.exe</th>\n",
       "      <td>20</td>\n",
       "      <td>0.333334</td>\n",
       "    </tr>\n",
       "    <tr>\n",
       "      <th>main.exe</th>\n",
       "      <td>0</td>\n",
       "      <td>0.050000</td>\n",
       "    </tr>\n",
       "    <tr>\n",
       "      <th>whale.exe</th>\n",
       "      <td>1721</td>\n",
       "      <td>74.133333</td>\n",
       "    </tr>\n",
       "  </tbody>\n",
       "</table>\n",
       "<p>88 rows × 2 columns</p>\n",
       "</div>"
      ],
      "text/plain": [
       "                                    eye_cnt       diff\n",
       "date       name                                       \n",
       "2023-07-18 Code.exe                       1   0.083334\n",
       "           ShellExperienceHost.exe        0   0.050000\n",
       "           e                              1   0.016667\n",
       "           electron.exe                   4   0.483333\n",
       "           explorer.exe                   0   0.016667\n",
       "...                                     ...        ...\n",
       "2023-07-30 SearchApp.exe                  3   0.083334\n",
       "           ShellExperienceHost.exe        2   0.033333\n",
       "           explorer.exe                  20   0.333334\n",
       "           main.exe                       0   0.050000\n",
       "           whale.exe                   1721  74.133333\n",
       "\n",
       "[88 rows x 2 columns]"
      ]
     },
     "execution_count": 15,
     "metadata": {},
     "output_type": "execute_result"
    }
   ],
   "source": [
    "data"
   ]
  },
  {
   "cell_type": "code",
   "execution_count": 18,
   "id": "3010785d",
   "metadata": {},
   "outputs": [],
   "source": [
    "data.drop(data[(data['eye_cnt'] == 0)].index,inplace = True)"
   ]
  },
  {
   "cell_type": "code",
   "execution_count": 97,
   "id": "e12c734b",
   "metadata": {},
   "outputs": [],
   "source": [
    "times = ['00','02','04','06','08','10','12','14','16','18','20','22','24']\n",
    "dataset = [[0,0],[0,0],[0,0],[0,0],[0,0],[0,0],[0,0],[0,0],[0,0],[0,0],[0,0],[0,0],[0,0]]"
   ]
  },
  {
   "cell_type": "code",
   "execution_count": 103,
   "id": "da7455df",
   "metadata": {},
   "outputs": [
    {
     "name": "stdout",
     "output_type": "stream",
     "text": [
      "시간대 : 12~14, 사용시간 : 38.4333360940218, 눈 깜박임 : 1056 , 눈 비율 : 27.47614720243497\n",
      "시간대 : 14~16, 사용시간 : 713.9000116288662, 눈 깜박임 : 13880 , 눈 비율 : 19.442498632729773\n",
      "시간대 : 16~18, 사용시간 : 421.16666816174984, 눈 깜박임 : 10500 , 눈 비율 : 24.93074783393698\n",
      "시간대 : 18~20, 사용시간 : 945.9499754011631, 눈 깜박임 : 27070 , 눈 비율 : 28.616735243869552\n",
      "시간대 : 20~22, 사용시간 : 959.3833149969579, 눈 깜박임 : 23236 , 눈 비율 : 24.21972493869531\n",
      "시간대 : 22~24, 사용시간 : 137.06666015088558, 눈 깜박임 : 3504 , 눈 비율 : 25.564203549883906\n"
     ]
    }
   ],
   "source": [
    "import datetime as dt\n",
    "\n",
    "for i,idx in zip(data['start_time'],data.index): # index 하나씩\n",
    "    #print(i)\n",
    "    for n in range(len(times)-1): # 시간대 찾기\n",
    "        if int(times[n]) <= int(i[:2]) < int(times[n+1]): # 시간대 만족\n",
    "            dataset[n][0] += data.loc[idx]['diff']\n",
    "            dataset[n][1] += data.loc[idx]['eye_cnt']                            \n",
    "            #print(data.loc[idx]['diff'],data.loc[idx]['eye_cnt'],dataset[n])\n",
    "            break\n",
    "\n",
    "for idx in range(len(times)-1):\n",
    "    if dataset[idx][1] != 0:\n",
    "        print(f'시간대 : {times[idx]}~{times[idx+1]}, 사용시간 : {dataset[idx][0]}, 눈 깜박임 : {dataset[idx][1]} , 눈 비율 : {dataset[idx][1]/dataset[idx][0]}')\n",
    "\n",
    "#print(data[(data['start_time'] >= 15)])"
   ]
  },
  {
   "cell_type": "code",
   "execution_count": 20,
   "id": "e6355f26",
   "metadata": {},
   "outputs": [],
   "source": [
    "type_a = ['main.exe' , 'electron.exe',   'ShellExperienceHost.exe',  'ScreenClippingHost.exe', 'ApplicationFrameHost.exe', 'cmd.exe', 'Taskmgr.exe' ]\n",
    "type_b = ['whale.exe', 'chrome.exe','explorer.exe']\n",
    "type_c = ['KakaoTalk.exe', 'Discord.exe']\n",
    "type_d = ['Code.exe','datagrip64.exe']\n",
    "type_list = [type_a,type_b,type_c,type_d]"
   ]
  },
  {
   "cell_type": "code",
   "execution_count": 21,
   "id": "d0cdc720",
   "metadata": {
    "scrolled": true
   },
   "outputs": [
    {
     "name": "stdout",
     "output_type": "stream",
     "text": [
      "process name : Taskmgr.exe, 사용시간 : 0.0333331525325776, 눈 깜빡임 비율(클수록 좋음) : 60.00032544312553\n",
      "process name : ScreenClippingHost.exe, 사용시간 : 0.3666687011718748, 눈 깜빡임 비율(클수록 좋음) : 35.454348730753246\n",
      "process name : ApplicationFrameHost.exe, 사용시간 : 3.8499992340803164, 눈 깜빡임 비율(클수록 좋음) : 18.701302421739125\n",
      "process name : main.exe, 사용시간 : 11.583330854773527, 눈 깜빡임 비율(클수록 좋음) : 18.129500282162653\n",
      "process name : electron.exe, 사용시간 : 139.16666887700566, 눈 깜빡임 비율(클수록 좋음) : 17.70538894034794\n",
      "process name : cmd.exe, 사용시간 : 14.350001960992817, 눈 깜빡임 비율(클수록 좋음) : 17.35191400508859\n",
      "process name : ShellExperienceHost.exe, 사용시간 : 3.983331844210628, 눈 깜빡임 비율(클수록 좋음) : 15.815905494181752\n",
      "26.16552647391412\n",
      "process name : chrome.exe, 사용시간 : 0.0833335518836977, 눈 깜빡임 비율(클수록 좋음) : 47.99987411532027\n",
      "process name : whale.exe, 사용시간 : 257.71666958928114, 눈 깜빡임 비율(클수록 좋음) : 21.26754163296841\n",
      "process name : explorer.exe, 사용시간 : 10.066659674048433, 눈 깜빡임 비율(클수록 좋음) : 18.47683402663376\n",
      "27.09029350923213\n",
      "process name : KakaoTalk.exe, 사용시간 : 27.549997419118892, 눈 깜빡임 비율(클수록 좋음) : 17.059892705246998\n",
      "26.178438890688028\n",
      "process name : datagrip64.exe, 사용시간 : 6.533332765102389, 눈 깜빡임 비율(클수록 좋음) : 22.193879481313637\n",
      "process name : Code.exe, 사용시간 : 448.5833376646043, 눈 깜빡임 비율(클수록 좋음) : 15.332713951900118\n",
      "25.037647786983236\n"
     ]
    }
   ],
   "source": [
    "temp = 0;cnt = 0\n",
    "for type_type in type_list:\n",
    "    for i in data.index:\n",
    "        if i in type_type:\n",
    "            data_ = data.loc[i]['gradient']\n",
    "            diff_ = data.loc[i]['diff']\n",
    "            print(f'process name : {i}, 사용시간 : {diff_}, 눈 깜빡임 비율(클수록 좋음) : {data_ }')\n",
    "            temp += data_\n",
    "            cnt += 1\n",
    "    if cnt != 0:\n",
    "        print(temp / cnt)"
   ]
  }
 ],
 "metadata": {
  "kernelspec": {
   "display_name": "Python 3 (ipykernel)",
   "language": "python",
   "name": "python3"
  },
  "language_info": {
   "codemirror_mode": {
    "name": "ipython",
    "version": 3
   },
   "file_extension": ".py",
   "mimetype": "text/x-python",
   "name": "python",
   "nbconvert_exporter": "python",
   "pygments_lexer": "ipython3",
   "version": "3.9.0"
  }
 },
 "nbformat": 4,
 "nbformat_minor": 5
}
